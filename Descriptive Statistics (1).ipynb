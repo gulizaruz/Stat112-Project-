{
 "cells": [
  {
   "cell_type": "code",
   "execution_count": 2,
   "id": "121969f4",
   "metadata": {},
   "outputs": [
    {
     "name": "stdout",
     "output_type": "stream",
     "text": [
      "{'Year': {'Min': 2011, 'Max': 2016, 'Mean': 2013.5, 'Std': 1.7137861409939505}, 'Price': {'Min': 18000, 'Max': 55000, 'Mean': 34083.333333333336, 'Std': 7640.067366890777}, 'Kilometers': {'Min': 12000, 'Max': 30000, 'Mean': 21631.944444444445, 'Std': 4143.824333726046}, 'Units Sold': {'Min': 3, 'Max': 48, 'Mean': 19.17361111111111, 'Std': 7.791271663946403}}\n"
     ]
    }
   ],
   "source": [
    "#***Descriptive statistics***\n",
    "import pandas as pd\n",
    "\n",
    "# Assuming 'data' is your DataFrame\n",
    "data = pd.read_excel('C:\\\\Users\\\\user\\\\Downloads\\\\Final Cleaned.xlsx')\n",
    "\n",
    "# Year\n",
    "year_min = data['Year'].min()\n",
    "year_max = data['Year'].max()\n",
    "year_mean = data['Year'].mean()\n",
    "year_std = data['Year'].std()\n",
    "\n",
    "# Price\n",
    "price_min = data['Price'].min()\n",
    "price_max = data['Price'].max()\n",
    "price_mean = data['Price'].mean()\n",
    "price_std = data['Price'].std()\n",
    "\n",
    "# Kilometers\n",
    "kilometers_min = data['Kilometers'].min()\n",
    "kilometers_max = data['Kilometers'].max()\n",
    "kilometers_mean = data['Kilometers'].mean()\n",
    "kilometers_std = data['Kilometers'].std()\n",
    "\n",
    "# Units Sold\n",
    "units_sold_min = data['Units Sold'].min()\n",
    "units_sold_max = data['Units Sold'].max()\n",
    "units_sold_mean = data['Units Sold'].mean()\n",
    "units_sold_std = data['Units Sold'].std()\n",
    "\n",
    "# Creating a dictionary to neatly format the results\n",
    "mathematical_values = {\n",
    "    \"Year\": {\"Min\": year_min, \"Max\": year_max, \"Mean\": year_mean, \"Std\": year_std},\n",
    "    \"Price\": {\"Min\": price_min, \"Max\": price_max, \"Mean\": price_mean, \"Std\": price_std},\n",
    "    \"Kilometers\": {\"Min\": kilometers_min, \"Max\": kilometers_max, \"Mean\": kilometers_mean, \"Std\": kilometers_std},\n",
    "    \"Units Sold\": {\"Min\": units_sold_min, \"Max\": units_sold_max, \"Mean\": units_sold_mean, \"Std\": units_sold_std}\n",
    "}\n",
    "\n",
    "# Outputting the values\n",
    "print(mathematical_values)"
   ]
  },
  {
   "cell_type": "code",
   "execution_count": 3,
   "id": "420d67c3",
   "metadata": {},
   "outputs": [
    {
     "name": "stdout",
     "output_type": "stream",
     "text": [
      "Year Range: 2011 to 2016 ; Range: 5\n",
      "Unique Months: 12 ; Frequency for Each Month: {'Jan': 12, 'Feb': 12, 'Mar': 12, 'Apr': 12, 'May': 12, 'Jun': 12, 'Jul': 12, 'Aug': 12, 'Sep': 12, 'Oct': 12, 'Nov': 12, 'Dec': 12}\n",
      "Unique Brands: 22 ; Most Common Brand: Ford ; Frequency: 12\n",
      "Unique Models: 71 ; Models with Most Common Frequency: ['Juke', 'Q3', 'Focus', 'Passat', 'E-Class', 'Countryman', 'Superb', 'Evoque', 'Xe', 'Cx-5', 'Model S', 'X5', 'Puma', 'Ioniq', 'Ceed', 'Cr-V', 'Kuga', 'Grandland X', 'Corolla', 'Tiguan', '3008', 'Captur', 'Ateca', 'Vitara', '5 Series']\n",
      "Unique Types: 4 ; Most Common Type: Suv ; Frequency: 73\n",
      "Unique Colors: 6 ; Most Common Color: Black ; Frequency: 26\n",
      "Transmission Types: 2 ; Frequency: {'Manual': 72, 'Automatic': 72}\n",
      "Unique Fuel Types: 4 ; Most Common Fuel Type: Petrol ; Frequency: 65\n",
      "Price Range: $18000 to $55000 ; Range: $37000\n",
      "Kilometers Range: 12000 to 30000 km; Range: 18000 km\n",
      "Units Sold Range: 3 to 48 units; Range: 45 units\n"
     ]
    }
   ],
   "source": [
    "file_path = 'C:\\\\Users\\\\user\\\\Downloads\\\\Final Cleaned.xlsx'\n",
    "data = pd.read_excel(file_path)\n",
    "\n",
    "# Year\n",
    "year_range = data['Year'].max() - data['Year'].min()\n",
    "\n",
    "# Month\n",
    "unique_months = data['Month'].nunique()\n",
    "month_frequency = data['Month'].value_counts()\n",
    "\n",
    "# Brand\n",
    "unique_brands = data['Brand'].nunique()\n",
    "most_common_brand = data['Brand'].mode()[0]\n",
    "frequency_most_common_brand = data['Brand'].value_counts()[most_common_brand]\n",
    "\n",
    "# Model\n",
    "unique_models = data['Model'].nunique()\n",
    "model_frequency = data['Model'].value_counts()\n",
    "most_common_model_frequency = model_frequency.max()\n",
    "models_with_most_common_frequency = model_frequency[model_frequency == most_common_model_frequency].index.tolist()\n",
    "\n",
    "# Type\n",
    "unique_types = data['Type'].nunique()\n",
    "most_common_type = data['Type'].mode()[0]\n",
    "frequency_most_common_type = data['Type'].value_counts()[most_common_type]\n",
    "\n",
    "# Color\n",
    "unique_colors = data['Color'].nunique()\n",
    "most_common_color = data['Color'].mode()[0]\n",
    "frequency_most_common_color = data['Color'].value_counts()[most_common_color]\n",
    "\n",
    "# Transmission\n",
    "transmission_types = data['Transmission'].nunique()\n",
    "transmission_frequency = data['Transmission'].value_counts()\n",
    "\n",
    "# Fuel Type\n",
    "unique_fuel_types = data['Fuel Type'].nunique()\n",
    "most_common_fuel_type = data['Fuel Type'].mode()[0]\n",
    "frequency_most_common_fuel_type = data['Fuel Type'].value_counts()[most_common_fuel_type]\n",
    "\n",
    "# Price\n",
    "price_range = data['Price'].max() - data['Price'].min()\n",
    "\n",
    "# Kilometers\n",
    "kilometers_range = data['Kilometers'].max() - data['Kilometers'].min()\n",
    "\n",
    "# Units Sold\n",
    "units_sold_range = data['Units Sold'].max() - data['Units Sold'].min()\n",
    "\n",
    "# The results can be printed or used as needed\n",
    "print(\"Year Range:\", data['Year'].min(), \"to\", data['Year'].max(), \"; Range:\", year_range)\n",
    "print(\"Unique Months:\", unique_months, \"; Frequency for Each Month:\", month_frequency.to_dict())\n",
    "print(\"Unique Brands:\", unique_brands, \"; Most Common Brand:\", most_common_brand, \"; Frequency:\", frequency_most_common_brand)\n",
    "print(\"Unique Models:\", unique_models, \"; Models with Most Common Frequency:\", models_with_most_common_frequency)\n",
    "print(\"Unique Types:\", unique_types, \"; Most Common Type:\", most_common_type, \"; Frequency:\", frequency_most_common_type)\n",
    "print(\"Unique Colors:\", unique_colors, \"; Most Common Color:\", most_common_color, \"; Frequency:\", frequency_most_common_color)\n",
    "print(\"Transmission Types:\", transmission_types, \"; Frequency:\", transmission_frequency.to_dict())\n",
    "print(\"Unique Fuel Types:\", unique_fuel_types, \"; Most Common Fuel Type:\", most_common_fuel_type, \"; Frequency:\", frequency_most_common_fuel_type)\n",
    "print(\"Price Range:\", \"$\" + str(data['Price'].min()), \"to $\" + str(data['Price'].max()), \"; Range: $\" + str(price_range))\n",
    "print(\"Kilometers Range:\", str(data['Kilometers'].min()), \"to\", str(data['Kilometers'].max()), \"km; Range:\", str(kilometers_range) + \" km\")\n",
    "print(\"Units Sold Range:\", data['Units Sold'].min(), \"to\", data['Units Sold'].max(), \"units; Range:\", units_sold_range, \"units\")"
   ]
  },
  {
   "cell_type": "code",
   "execution_count": null,
   "id": "614c0a94",
   "metadata": {},
   "outputs": [],
   "source": []
  }
 ],
 "metadata": {
  "kernelspec": {
   "display_name": "Python 3 (ipykernel)",
   "language": "python",
   "name": "python3"
  },
  "language_info": {
   "codemirror_mode": {
    "name": "ipython",
    "version": 3
   },
   "file_extension": ".py",
   "mimetype": "text/x-python",
   "name": "python",
   "nbconvert_exporter": "python",
   "pygments_lexer": "ipython3",
   "version": "3.11.3"
  }
 },
 "nbformat": 4,
 "nbformat_minor": 5
}
